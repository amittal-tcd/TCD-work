{
 "cells": [
  {
   "cell_type": "code",
   "execution_count": null,
   "metadata": {},
   "outputs": [],
   "source": [
    "import pandas as pd\n",
    "import numpy as np\n",
    "import yfinance as yf\n",
    "\n",
    "dfc = pd.read_csv(\"Stock codes.csv\",sep=\",\")\n",
    "\n",
    "l = dfc.set_index('Symbol').to_dict()['Description']\n",
    "\n",
    "df = pd.DataFrame()\n",
    "\n",
    "for i in l:\n",
    "    dftemp = yf.download(i, \n",
    "                      start='2010-01-01', \n",
    "                      end='2020-02-29', \n",
    "                      progress=False,\n",
    "                     interval= '1d')\n",
    "    dftemp['Stock Symbol'] = i\n",
    "    dftemp['Stock name'] = l[i]\n",
    "    df = df.append(dftemp)\n",
    "    \n",
    "df.head()"
   ]
  }
 ],
 "metadata": {
  "kernelspec": {
   "display_name": "Python 3",
   "language": "python",
   "name": "python3"
  },
  "language_info": {
   "codemirror_mode": {
    "name": "ipython",
    "version": 3
   },
   "file_extension": ".py",
   "mimetype": "text/x-python",
   "name": "python",
   "nbconvert_exporter": "python",
   "pygments_lexer": "ipython3",
   "version": "3.7.3"
  }
 },
 "nbformat": 4,
 "nbformat_minor": 2
}
